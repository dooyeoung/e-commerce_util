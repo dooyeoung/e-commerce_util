{
 "cells": [
  {
   "cell_type": "code",
   "execution_count": 61,
   "metadata": {},
   "outputs": [],
   "source": [
    "import MySQLdb"
   ]
  },
  {
   "cell_type": "code",
   "execution_count": 90,
   "metadata": {},
   "outputs": [],
   "source": [
    "db = MySQLdb.connect(\n",
    "        \"127.0.0.1\",\n",
    "        \"root\",\n",
    "        \"fbendud89\",\n",
    "        \"soulfood\",\n",
    "        charset='utf8',\n",
    "    ) "
   ]
  },
  {
   "cell_type": "code",
   "execution_count": 89,
   "metadata": {},
   "outputs": [],
   "source": [
    "db.close()"
   ]
  },
  {
   "cell_type": "code",
   "execution_count": 12,
   "metadata": {},
   "outputs": [],
   "source": [
    "def add_nutrition_etc():\n",
    "    SQL_QUERY = \"\"\"INSERT INTO `nutrition_etc` \n",
    "    VALUES (NULL,%s,%s,%s,%s,%s,%s,%s,%s,%s,%s,%s,%s,%s)\"\"\"\n",
    "\n",
    "    inputdata = (1.1,2.2,3,4,5,6,7,8,9,10,11,12, None)\n",
    "    \n",
    "    curs = db.cursor()\n",
    "    count = curs.execute(SQL_QUERY, inputdata)\n",
    "    db.commit()\n",
    "    print(curs._last_executed) "
   ]
  },
  {
   "cell_type": "code",
   "execution_count": null,
   "metadata": {},
   "outputs": [],
   "source": []
  },
  {
   "cell_type": "code",
   "execution_count": 66,
   "metadata": {},
   "outputs": [],
   "source": [
    "def delete_by_id_item(tablename, id):\n",
    "    SQL_QUERY = \"\"\"\n",
    "    DELETE FROM `{}` WHERE `id` IN ('{}');\n",
    "    \"\"\".format(tablename, id)\n",
    "    \n",
    "    curs = db.cursor()\n",
    "    count = curs.execute(SQL_QUERY)\n",
    "    db.commit()\n",
    " "
   ]
  },
  {
   "cell_type": "code",
   "execution_count": 67,
   "metadata": {},
   "outputs": [],
   "source": [
    "delete_item(1)"
   ]
  },
  {
   "cell_type": "code",
   "execution_count": null,
   "metadata": {},
   "outputs": [],
   "source": []
  },
  {
   "cell_type": "code",
   "execution_count": null,
   "metadata": {},
   "outputs": [],
   "source": []
  },
  {
   "cell_type": "code",
   "execution_count": 85,
   "metadata": {},
   "outputs": [],
   "source": [
    "def select_item():\n",
    "    SQL_QUERY = \"select * from `item`\";\n",
    "    \n",
    "    curs = db.cursor()\n",
    "    count = curs.execute(SQL_QUERY)\n",
    "    print(count)\n",
    "    rows = curs.fetchall()\n",
    "    \n",
    "    return rows"
   ]
  },
  {
   "cell_type": "code",
   "execution_count": 91,
   "metadata": {},
   "outputs": [
    {
     "name": "stdout",
     "output_type": "stream",
     "text": [
      "3\n"
     ]
    }
   ],
   "source": [
    "rows = select_item()"
   ]
  },
  {
   "cell_type": "code",
   "execution_count": 95,
   "metadata": {},
   "outputs": [
    {
     "name": "stdout",
     "output_type": "stream",
     "text": [
      "c2\n",
      "c3\n",
      "4\n"
     ]
    }
   ],
   "source": [
    "for row in rows:\n",
    "    company = row[4]\n",
    "    print(company)"
   ]
  },
  {
   "cell_type": "code",
   "execution_count": 74,
   "metadata": {},
   "outputs": [],
   "source": [
    "def get_count(tablename):\n",
    "    SQL_QUERY = \"select * from `\"+tablename+\"`\";\n",
    "    \n",
    "    curs = db.cursor()\n",
    "    count = curs.execute(SQL_QUERY)\n",
    "    print(count)\n",
    "    rows = curs.fetchall() \n",
    "    print(len(rows))\n",
    "    return rows"
   ]
  },
  {
   "cell_type": "code",
   "execution_count": 77,
   "metadata": {},
   "outputs": [
    {
     "name": "stdout",
     "output_type": "stream",
     "text": [
      "0\n",
      "0\n"
     ]
    },
    {
     "data": {
      "text/plain": [
       "()"
      ]
     },
     "execution_count": 77,
     "metadata": {},
     "output_type": "execute_result"
    }
   ],
   "source": [
    "get_count('item')"
   ]
  },
  {
   "cell_type": "code",
   "execution_count": 4,
   "metadata": {},
   "outputs": [
    {
     "name": "stdout",
     "output_type": "stream",
     "text": [
      "c.txt\n"
     ]
    }
   ],
   "source": [
    "from os.path import basename\n",
    "\n",
    "# now you can call it directly with basename\n",
    "print(basename(\"/a/b/c.txt\"))"
   ]
  },
  {
   "cell_type": "code",
   "execution_count": 17,
   "metadata": {},
   "outputs": [
    {
     "name": "stdout",
     "output_type": "stream",
     "text": [
      "24.jpg\n"
     ]
    }
   ],
   "source": [
    "import os\n",
    "\n",
    "def search(dirname):\n",
    "    filenames = os.listdir(dirname)\n",
    "    for filename in filenames:\n",
    "        full_filename = os.path.join(dirname, filename)\n",
    "\n",
    "        fname = basename(full_filename)\n",
    "        \n",
    "        if fname == \".DS_Store\":\n",
    "            continue\n",
    "            \n",
    "        idtxt = int(fname.split(\".\")[0])\n",
    "        if idtxt == 24:\n",
    "            print(fname)\n",
    "\n",
    "search(\"/Users/duyeoungryu/Documents/dev/flask/soulfood/static/upload\")"
   ]
  },
  {
   "cell_type": "code",
   "execution_count": null,
   "metadata": {},
   "outputs": [],
   "source": []
  }
 ],
 "metadata": {
  "kernelspec": {
   "display_name": "Python 3",
   "language": "python",
   "name": "python3"
  },
  "language_info": {
   "codemirror_mode": {
    "name": "ipython",
    "version": 3
   },
   "file_extension": ".py",
   "mimetype": "text/x-python",
   "name": "python",
   "nbconvert_exporter": "python",
   "pygments_lexer": "ipython3",
   "version": "3.6.5"
  }
 },
 "nbformat": 4,
 "nbformat_minor": 2
}
